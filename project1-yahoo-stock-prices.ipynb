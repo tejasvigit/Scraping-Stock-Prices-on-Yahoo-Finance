{
 "cells": [
  {
   "cell_type": "markdown",
   "metadata": {},
   "source": [
    "# Scraping Stock Prices on Yahoo Finance\n",
    "\n",
    "Use the \"Run\" button to execute the code."
   ]
  },
  {
   "cell_type": "markdown",
   "metadata": {},
   "source": [
    "<img src=\"https://i.imgur.com/JlzyGl6.jpeg\" style=\"width: 800px;\" align=\"center\"/>\n",
    "\n",
    "### <font color=green>Introduction\n",
    "\n",
    "The Yahoo finance website is a source of financial information for users all over the world. In this project, web-scraping of the finance section on Yahoo was attempted.\n"
   ]
  },
  {
   "cell_type": "markdown",
   "metadata": {},
   "source": [
    "The code written in this project draws information from a select group of categories of Markets, which can be found inside the 'Markets' header of the as shown below:\n",
    "\n",
    "<img src=\"https://i.imgur.com/xH9XyZk.jpeg\" style=\"width: 800px;\" align=\"center\" />\n"
   ]
  },
  {
   "cell_type": "markdown",
   "metadata": {},
   "source": [
    "When the Trending Tickers page is opened, the tickers look like this:\n",
    "<img src=\"https://i.imgur.com/OK4DXUx.png\" style=\"width: 800px;\" align=\"center\" />\n"
   ]
  },
  {
   "cell_type": "markdown",
   "metadata": {},
   "source": [
    "The goal of this project was to scrape the following stock ticker information for each of the tickers:\n",
    "\n",
    "* Name\n",
    "* Symbol\n",
    "* Price\n",
    "* URL"
   ]
  },
  {
   "cell_type": "markdown",
   "metadata": {},
   "source": [
    "### <font color=green>Requests and BeautifulSoup\n",
    "\n",
    "First, the required packages are installed and imported. For this project, we will need the requests library to query a website and save the response as a response object.\n",
    "\n",
    "Then, we install the bs4 package which contains BeautifulSoup library, which is a popular python library for reading and parsing HTML data. "
   ]
  },
  {
   "cell_type": "code",
   "execution_count": 1,
   "metadata": {},
   "outputs": [],
   "source": [
    "!pip install requests --upgrade --quiet\n",
    "import requests\n",
    "\n",
    "!pip install bs4 --upgrade --quiet\n",
    "from bs4 import BeautifulSoup"
   ]
  },
  {
   "cell_type": "markdown",
   "metadata": {},
   "source": [
    "### <font color=green>Defining the base_url\n",
    "\n",
    "The website home page (https://www.finance.yahoo.com) is assigned to a variable 'base_url' so that the specific market paths which will be extracted from the html code can be appended to it. "
   ]
  },
  {
   "cell_type": "code",
   "execution_count": 2,
   "metadata": {},
   "outputs": [],
   "source": [
    "base_url = 'https://www.finance.yahoo.com'"
   ]
  },
  {
   "cell_type": "markdown",
   "metadata": {},
   "source": [
    "### <font color=brown>Function No. 1: get_market_page\n",
    "\n",
    "* A function called 'get_market_page' is defined, which takes a market category as string input and generates a beautifulsoup document as output. \n",
    "***\n",
    "* A couple of market URLS (top-trending and cryptocurrencies) were checked and it was found that the market URLs had the market names appended to the base URL - https://finance.yahoo.com. The outputs were checked and were verified.\n",
    "\n",
    "    Cryptocurrencies URL  found to be https://finance.yahoo.com/cryptocurrencies;\n",
    "\n",
    "    Trending-tickers URL was found to be https://finance.yahoo.com/trending-tickers;\n",
    "\n",
    "    Top ETFs URL was found to be https://finance.yahoo.com/etfs;\n",
    "\n",
    "    ...and so on.\n",
    "***\n",
    "\n",
    "* The local variable 'response' is assigned to the response obtained when the market URL is passed to the requests.get function. \n",
    "***\n",
    "* A valid response has a response code of 200. If not, an exception is raised stating - the response is invalid. \n",
    "***\n",
    "* The response is fed to the beautiful soup function and a beautifulsoup document for that specific market is returned."
   ]
  },
  {
   "cell_type": "code",
   "execution_count": 3,
   "metadata": {},
   "outputs": [],
   "source": [
    "def get_market_page(market):\n",
    "    market_tickers_url = 'https://www.finance.yahoo.com/'+market\n",
    "    response = requests.get(market_tickers_url)\n",
    "    if response.status_code != 200:\n",
    "        print('Status code: ', response.status_code)\n",
    "        raise Exception('Failed to fetch web page '+ market_tickers_url)\n",
    "    doc = BeautifulSoup(response.text)\n",
    "    return doc"
   ]
  },
  {
   "cell_type": "code",
   "execution_count": 4,
   "metadata": {},
   "outputs": [],
   "source": [
    "#when the cryptocurrencies market category is queried:\n",
    "crypto_doc = get_market_page('cryptocurrencies')"
   ]
  },
  {
   "cell_type": "markdown",
   "metadata": {},
   "source": [
    "The title of the webpage can be parsed from the BeautifulSoup document generated from the cryptocurrencies page, by calling .title.text to the document name"
   ]
  },
  {
   "cell_type": "code",
   "execution_count": 5,
   "metadata": {},
   "outputs": [
    {
     "data": {
      "text/plain": [
       "'All Cryptocurrencies Screener - Yahoo Finance'"
      ]
     },
     "execution_count": 5,
     "metadata": {},
     "output_type": "execute_result"
    }
   ],
   "source": [
    "crypto_doc.title.text"
   ]
  },
  {
   "cell_type": "markdown",
   "metadata": {},
   "source": [
    "The trending tickers market of Yahoo Finance website is also queried and a document is generated. The title is then checked to make sure that the function above works for all applicable markets on the yahoo finance website."
   ]
  },
  {
   "cell_type": "code",
   "execution_count": 6,
   "metadata": {},
   "outputs": [
    {
     "data": {
      "text/plain": [
       "'Trending Stocks Today - Yahoo Finance'"
      ]
     },
     "execution_count": 6,
     "metadata": {},
     "output_type": "execute_result"
    }
   ],
   "source": [
    "market_doc = get_market_page('trending-tickers')\n",
    "market_doc.title.text"
   ]
  },
  {
   "cell_type": "markdown",
   "metadata": {},
   "source": [
    "### <font color=green>Inspecting the HTML code of a market website on Yahoo Finance\n",
    "\n",
    "Upon inspection of the html code of the Yahoo Finance webpage, it was found that there are 'tr' tags with the class \"simpTb1Row...\" for each of the market categories.\n",
    "\n",
    "<img src=\"https://i.imgur.com/qhjhWsn.jpeg\" style=\"width: 900px;\" align=\"center\" />"
   ]
  },
  {
   "cell_type": "code",
   "execution_count": 7,
   "metadata": {},
   "outputs": [],
   "source": [
    "#to look at all the 'tr' tags and assign a variable to it: 'ticker_tags'\n",
    "ticker_tags = market_doc.find_all('tr', class_=\"simpTblRow\")"
   ]
  },
  {
   "cell_type": "code",
   "execution_count": 8,
   "metadata": {},
   "outputs": [
    {
     "data": {
      "text/plain": [
       "30"
      ]
     },
     "execution_count": 8,
     "metadata": {},
     "output_type": "execute_result"
    }
   ],
   "source": [
    "# It was found that there are thirty tickers in the 'top-trending' tickers list.\n",
    "len(ticker_tags)"
   ]
  },
  {
   "cell_type": "code",
   "execution_count": 9,
   "metadata": {},
   "outputs": [
    {
     "data": {
      "text/plain": [
       "<tr class=\"simpTblRow Bgc($hoverBgColor):h BdB Bdbc($seperatorColor) Bdbc($tableBorderBlue):h H(32px) Bgc($lv2BgColor)\" data-reactid=\"41\"><td aria-label=\"Symbol\" class=\"Va(m) Ta(start) Pstart(6px) Pend(15px) Start(0) Pend(10px) simpTblRow:h_Bgc($hoverBgColor) Pos(st) Bgc($lv3BgColor) Bgc($lv2BgColor) Ta(start)! Fz(s)\" colspan=\"\" data-reactid=\"42\"><a class=\"Fw(600) C($linkColor)\" data-reactid=\"43\" data-test=\"quoteLink\" href=\"/quote/AAPL?p=AAPL\" title=\"Apple Inc.\">AAPL</a><div class=\"W(3px) Pos(a) Start(100%) T(0) H(100%) Bg($pfColumnFakeShadowGradient) Pe(n) Pend(5px)\" data-reactid=\"44\"></div></td><td aria-label=\"Name\" class=\"Va(m) Ta(start) Px(10px) Miw(180px) Fz(s)\" colspan=\"\" data-reactid=\"45\"><!-- react-text: 46 -->Apple Inc.<!-- /react-text --></td><td aria-label=\"Last Price\" class=\"Va(m) Ta(end) Pstart(20px) Fw(600) Fz(s)\" colspan=\"\" data-reactid=\"47\"><span class=\"Trsdu(0.3s)\" data-reactid=\"48\">148.97</span></td><td aria-label=\"Market Time\" class=\"Va(m) Ta(end) Pstart(20px) Miw(90px) Fz(s)\" colspan=\"\" data-reactid=\"49\"><span class=\"Trsdu(0.3s)\" data-reactid=\"50\">4:00PM EDT</span></td><td aria-label=\"Change\" class=\"Va(m) Ta(end) Pstart(20px) Fw(600) Fz(s)\" colspan=\"\" data-reactid=\"51\"><span class=\"Trsdu(0.3s) Fw(600) C($negativeColor)\" data-reactid=\"52\">-5.10</span></td><td aria-label=\"% Change\" class=\"Va(m) Ta(end) Pstart(20px) Fw(600) Fz(s)\" colspan=\"\" data-reactid=\"53\"><span class=\"Trsdu(0.3s) Fw(600) C($negativeColor)\" data-reactid=\"54\">-3.31%</span></td><td aria-label=\"Volume\" class=\"Va(m) Ta(end) Pstart(20px) Fz(s)\" colspan=\"\" data-reactid=\"55\"><span class=\"Trsdu(0.3s)\" data-reactid=\"56\">138.336M</span></td><td aria-label=\"Market Cap\" class=\"Va(m) Ta(end) Pstart(20px) Fz(s)\" colspan=\"\" data-reactid=\"57\"><span class=\"Trsdu(0.3s)\" data-reactid=\"58\">2.463T</span></td><td aria-label=\"Intraday High/Low\" class=\"Va(m) Ta(end) Pstart(20px) Fz(s)\" colspan=\"\" data-reactid=\"59\"><canvas data-reactid=\"60\" style=\"width:140px;height:23px;\"></canvas></td><td aria-label=\"52 Week Range\" class=\"Va(m) Ta(start) Pstart(20px) Pend(10px) W(120px) Fz(s)\" colspan=\"\" data-reactid=\"61\"><canvas data-reactid=\"62\" style=\"width:140px;height:23px;\"></canvas></td><td aria-label=\"Day Chart\" class=\"Va(m) Ta(start) Pstart(20px) Pend(10px) W(120px) Fz(s)\" colspan=\"\" data-reactid=\"63\"><a aria-label=\"Go to AAPL Chart\" class=\"C($linkColor)\" data-reactid=\"64\" data-symbol=\"AAPL\" href=\"/chart/AAPL?p=AAPL\" rel=\"noopener noreferrer\" target=\"_blank\"><canvas data-reactid=\"65\" style=\"width:70px;height:25px;\"></canvas></a></td></tr>"
      ]
     },
     "execution_count": 9,
     "metadata": {},
     "output_type": "execute_result"
    }
   ],
   "source": [
    "#Inspect the first ticker tag and assigning it to a variable: ticker_tag\n",
    "ticker_tag = ticker_tags[0]\n",
    "ticker_tag"
   ]
  },
  {
   "cell_type": "markdown",
   "metadata": {},
   "source": [
    "When the 'tr' tags are inspected, we find that each 'tr' tag has a list of 'td' tags in them:\n",
    "\n",
    "<img src=\"https://i.imgur.com/ZzASKhi.jpeg\" style=\"width: 600px;\" align=\"center\" />\n",
    "\n",
    "\n"
   ]
  },
  {
   "cell_type": "code",
   "execution_count": 10,
   "metadata": {},
   "outputs": [
    {
     "data": {
      "text/plain": [
       "[<td aria-label=\"Symbol\" class=\"Va(m) Ta(start) Pstart(6px) Pend(15px) Start(0) Pend(10px) simpTblRow:h_Bgc($hoverBgColor) Pos(st) Bgc($lv3BgColor) Bgc($lv2BgColor) Ta(start)! Fz(s)\" colspan=\"\" data-reactid=\"42\"><a class=\"Fw(600) C($linkColor)\" data-reactid=\"43\" data-test=\"quoteLink\" href=\"/quote/AAPL?p=AAPL\" title=\"Apple Inc.\">AAPL</a><div class=\"W(3px) Pos(a) Start(100%) T(0) H(100%) Bg($pfColumnFakeShadowGradient) Pe(n) Pend(5px)\" data-reactid=\"44\"></div></td>,\n",
       " <td aria-label=\"Name\" class=\"Va(m) Ta(start) Px(10px) Miw(180px) Fz(s)\" colspan=\"\" data-reactid=\"45\"><!-- react-text: 46 -->Apple Inc.<!-- /react-text --></td>,\n",
       " <td aria-label=\"Last Price\" class=\"Va(m) Ta(end) Pstart(20px) Fw(600) Fz(s)\" colspan=\"\" data-reactid=\"47\"><span class=\"Trsdu(0.3s)\" data-reactid=\"48\">148.97</span></td>,\n",
       " <td aria-label=\"Market Time\" class=\"Va(m) Ta(end) Pstart(20px) Miw(90px) Fz(s)\" colspan=\"\" data-reactid=\"49\"><span class=\"Trsdu(0.3s)\" data-reactid=\"50\">4:00PM EDT</span></td>,\n",
       " <td aria-label=\"Change\" class=\"Va(m) Ta(end) Pstart(20px) Fw(600) Fz(s)\" colspan=\"\" data-reactid=\"51\"><span class=\"Trsdu(0.3s) Fw(600) C($negativeColor)\" data-reactid=\"52\">-5.10</span></td>,\n",
       " <td aria-label=\"% Change\" class=\"Va(m) Ta(end) Pstart(20px) Fw(600) Fz(s)\" colspan=\"\" data-reactid=\"53\"><span class=\"Trsdu(0.3s) Fw(600) C($negativeColor)\" data-reactid=\"54\">-3.31%</span></td>,\n",
       " <td aria-label=\"Volume\" class=\"Va(m) Ta(end) Pstart(20px) Fz(s)\" colspan=\"\" data-reactid=\"55\"><span class=\"Trsdu(0.3s)\" data-reactid=\"56\">138.336M</span></td>,\n",
       " <td aria-label=\"Market Cap\" class=\"Va(m) Ta(end) Pstart(20px) Fz(s)\" colspan=\"\" data-reactid=\"57\"><span class=\"Trsdu(0.3s)\" data-reactid=\"58\">2.463T</span></td>,\n",
       " <td aria-label=\"Intraday High/Low\" class=\"Va(m) Ta(end) Pstart(20px) Fz(s)\" colspan=\"\" data-reactid=\"59\"><canvas data-reactid=\"60\" style=\"width:140px;height:23px;\"></canvas></td>,\n",
       " <td aria-label=\"52 Week Range\" class=\"Va(m) Ta(start) Pstart(20px) Pend(10px) W(120px) Fz(s)\" colspan=\"\" data-reactid=\"61\"><canvas data-reactid=\"62\" style=\"width:140px;height:23px;\"></canvas></td>,\n",
       " <td aria-label=\"Day Chart\" class=\"Va(m) Ta(start) Pstart(20px) Pend(10px) W(120px) Fz(s)\" colspan=\"\" data-reactid=\"63\"><a aria-label=\"Go to AAPL Chart\" class=\"C($linkColor)\" data-reactid=\"64\" data-symbol=\"AAPL\" href=\"/chart/AAPL?p=AAPL\" rel=\"noopener noreferrer\" target=\"_blank\"><canvas data-reactid=\"65\" style=\"width:70px;height:25px;\"></canvas></a></td>]"
      ]
     },
     "execution_count": 10,
     "metadata": {},
     "output_type": "execute_result"
    }
   ],
   "source": [
    "#to look at all 'td' tags in a 'tr' tag\n",
    "td_tags = ticker_tag.find_all('td')\n",
    "td_tags"
   ]
  },
  {
   "cell_type": "markdown",
   "metadata": {},
   "source": [
    "It was also found - by hovering on each 'td' tag - that they represent each of the items in the ticker row on the website:\n",
    "\n",
    "<img src=\"https://i.imgur.com/UpdTOlz.jpeg\" style=\"width: 900px;\" align=\"center\" />\n"
   ]
  },
  {
   "cell_type": "markdown",
   "metadata": {},
   "source": [
    "When the td tags are expanded, we can find the information we are looking for - ticker name, ticker symbol, ticker price and ticker path (which needs to be appended to the base-URL) to lead to the correct URL. "
   ]
  },
  {
   "cell_type": "markdown",
   "metadata": {},
   "source": [
    "### <font color=green>Parsing the required information for each ticker:\n",
    "\n",
    "Once the required information is located inside each of the 'td' tags, these are the findings:\n",
    "* Ticker symbol is in the first 'td' tag\n",
    "* Ticker name is in the second 'td' tag\n",
    "* Ticker price is in the third 'td' tag\n",
    "* Ticker path is located inside the 'a' tag in the first 'td' tag ('a' tags usually contain links)\n",
    "\n",
    " \n",
    "\n",
    "Ticker path location:\n",
    "\n",
    "<img src=\"https://i.imgur.com/jcPdycA.jpg\" style=\"width: 900px;\" align=\"center\" />\n",
    "    \n",
    "    "
   ]
  },
  {
   "cell_type": "code",
   "execution_count": 11,
   "metadata": {},
   "outputs": [
    {
     "data": {
      "text/plain": [
       "'AAPL'"
      ]
     },
     "execution_count": 11,
     "metadata": {},
     "output_type": "execute_result"
    }
   ],
   "source": [
    "ticker_symbol = td_tags[0].text\n",
    "ticker_symbol"
   ]
  },
  {
   "cell_type": "code",
   "execution_count": 12,
   "metadata": {},
   "outputs": [
    {
     "data": {
      "text/plain": [
       "'Apple Inc.'"
      ]
     },
     "execution_count": 12,
     "metadata": {},
     "output_type": "execute_result"
    }
   ],
   "source": [
    "ticker_name = td_tags[1].text\n",
    "ticker_name"
   ]
  },
  {
   "cell_type": "code",
   "execution_count": 13,
   "metadata": {},
   "outputs": [
    {
     "data": {
      "text/plain": [
       "'148.97'"
      ]
     },
     "execution_count": 13,
     "metadata": {},
     "output_type": "execute_result"
    }
   ],
   "source": [
    "ticker_price_text = td_tags[2].text\n",
    "ticker_price = ticker_price_text.replace(',','')\n",
    "ticker_price"
   ]
  },
  {
   "cell_type": "code",
   "execution_count": 14,
   "metadata": {},
   "outputs": [],
   "source": [
    "a_tags = ticker_tag.find_all('a')"
   ]
  },
  {
   "cell_type": "code",
   "execution_count": 15,
   "metadata": {},
   "outputs": [
    {
     "data": {
      "text/plain": [
       "[<a class=\"Fw(600) C($linkColor)\" data-reactid=\"43\" data-test=\"quoteLink\" href=\"/quote/AAPL?p=AAPL\" title=\"Apple Inc.\">AAPL</a>,\n",
       " <a aria-label=\"Go to AAPL Chart\" class=\"C($linkColor)\" data-reactid=\"64\" data-symbol=\"AAPL\" href=\"/chart/AAPL?p=AAPL\" rel=\"noopener noreferrer\" target=\"_blank\"><canvas data-reactid=\"65\" style=\"width:70px;height:25px;\"></canvas></a>]"
      ]
     },
     "execution_count": 15,
     "metadata": {},
     "output_type": "execute_result"
    }
   ],
   "source": [
    "a_tags"
   ]
  },
  {
   "cell_type": "code",
   "execution_count": 16,
   "metadata": {},
   "outputs": [],
   "source": [
    "ticker_path = a_tags[0]['href']"
   ]
  },
  {
   "cell_type": "code",
   "execution_count": 17,
   "metadata": {},
   "outputs": [
    {
     "data": {
      "text/plain": [
       "'/quote/AAPL?p=AAPL'"
      ]
     },
     "execution_count": 17,
     "metadata": {},
     "output_type": "execute_result"
    }
   ],
   "source": [
    "ticker_path"
   ]
  },
  {
   "cell_type": "code",
   "execution_count": 18,
   "metadata": {},
   "outputs": [],
   "source": [
    "ticker_url = base_url+ticker_path"
   ]
  },
  {
   "cell_type": "code",
   "execution_count": 19,
   "metadata": {},
   "outputs": [
    {
     "data": {
      "text/plain": [
       "'https://www.finance.yahoo.com/quote/AAPL?p=AAPL'"
      ]
     },
     "execution_count": 19,
     "metadata": {},
     "output_type": "execute_result"
    }
   ],
   "source": [
    "ticker_url"
   ]
  },
  {
   "cell_type": "code",
   "execution_count": 20,
   "metadata": {},
   "outputs": [
    {
     "name": "stdout",
     "output_type": "stream",
     "text": [
      "Ticker name:  Apple Inc.\n",
      "Ticker symbol:  AAPL\n",
      "Ticker price:  148.97\n",
      "Ticker URL https://www.finance.yahoo.com/quote/AAPL?p=AAPL\n"
     ]
    }
   ],
   "source": [
    "print('Ticker name: ', ticker_name)\n",
    "print('Ticker symbol: ', ticker_symbol)\n",
    "print('Ticker price: ', ticker_price)\n",
    "print('Ticker URL', ticker_url)"
   ]
  },
  {
   "cell_type": "markdown",
   "metadata": {},
   "source": [
    "### <font color=brown>Function No. 2: parse_ticker\n",
    "\n",
    "* Next, we define a function 'parse_ticker', which takes the 'tr' tag (ticker_tag) as an input. \n",
    "***\n",
    "Inside this function, we define the following local variables:\n",
    "* ticker_name: This is the name of the ticker and is obtained when the second td_tag is passed with the text attribute.\n",
    "\n",
    "* ticker_symbol: This is symbol of the ticker and is obtained when the second td_tag is passed with the text attribute.\n",
    "\n",
    "* ticker_price: This is the price of each unit of the ticker and is obtained when the second td_tag is passed with the text attribute.\n",
    "\n",
    "* ticker_URL: This is the URL for the ticker on Yahoo Finance. It is obtained by appending the ticker_path to the base_url\n",
    "\n",
    "* The output that is generated is a dictionary containing key-value pairs, where the keys are 'Ticker name', 'Ticker symbol', 'Ticker price' and 'Ticker URL' and the values are their respective local variables mentioned in the text above. \n",
    "\n",
    "Putting the code for scraping all the ticker informtation together, a function 'parse_ticker' can be defined as follows:"
   ]
  },
  {
   "cell_type": "code",
   "execution_count": 24,
   "metadata": {},
   "outputs": [],
   "source": [
    "def parse_ticker(ticker_tag):\n",
    "    td_tags = ticker_tag.find_all('td')\n",
    "    ticker_name = td_tags[1].text.replace(',','')\n",
    "    ticker_symbol = td_tags[0].text\n",
    "    ticker_price = (td_tags[2].text.replace(',',''))\n",
    "    a_tags = ticker_tag.find_all('a')\n",
    "    ticker_path = a_tags[0]['href']\n",
    "    ticker_url = base_url+ticker_path\n",
    "    return {\n",
    "        'Ticker name ': ticker_name,\n",
    "        'Ticker symbol ': ticker_symbol,\n",
    "        'Ticker price ': ticker_price,\n",
    "        'Ticker URL': ticker_url\n",
    "    }"
   ]
  },
  {
   "cell_type": "code",
   "execution_count": 25,
   "metadata": {},
   "outputs": [
    {
     "data": {
      "text/plain": [
       "{'Ticker name ': 'Affirm Holdings Inc.',\n",
       " 'Ticker symbol ': 'AFRM',\n",
       " 'Ticker price ': '123.70',\n",
       " 'Ticker URL': 'https://www.finance.yahoo.com/quote/AFRM?p=AFRM'}"
      ]
     },
     "execution_count": 25,
     "metadata": {},
     "output_type": "execute_result"
    }
   ],
   "source": [
    "parse_ticker(ticker_tags[1])"
   ]
  },
  {
   "cell_type": "markdown",
   "metadata": {},
   "source": [
    "For iterating all tickers in a particular category, we can try the following code:"
   ]
  },
  {
   "cell_type": "code",
   "execution_count": 26,
   "metadata": {},
   "outputs": [],
   "source": [
    "top_tickers = [parse_ticker(tag) for tag in ticker_tags]"
   ]
  },
  {
   "cell_type": "code",
   "execution_count": 27,
   "metadata": {},
   "outputs": [
    {
     "data": {
      "text/plain": [
       "30"
      ]
     },
     "execution_count": 27,
     "metadata": {},
     "output_type": "execute_result"
    }
   ],
   "source": [
    "#top_tickers\n",
    "len(top_tickers)"
   ]
  },
  {
   "cell_type": "code",
   "execution_count": 28,
   "metadata": {},
   "outputs": [
    {
     "data": {
      "text/plain": [
       "[{'Ticker name ': 'Apple Inc.',\n",
       "  'Ticker symbol ': 'AAPL',\n",
       "  'Ticker price ': '148.97',\n",
       "  'Ticker URL': 'https://www.finance.yahoo.com/quote/AAPL?p=AAPL'},\n",
       " {'Ticker name ': 'Affirm Holdings Inc.',\n",
       "  'Ticker symbol ': 'AFRM',\n",
       "  'Ticker price ': '123.70',\n",
       "  'Ticker URL': 'https://www.finance.yahoo.com/quote/AFRM?p=AFRM'},\n",
       " {'Ticker name ': 'IVERIC bio Inc.',\n",
       "  'Ticker symbol ': 'ISEE',\n",
       "  'Ticker price ': '14.12',\n",
       "  'Ticker URL': 'https://www.finance.yahoo.com/quote/ISEE?p=ISEE'},\n",
       " {'Ticker name ': 'The Kroger Co.',\n",
       "  'Ticker symbol ': 'KR',\n",
       "  'Ticker price ': '42.67',\n",
       "  'Ticker URL': 'https://www.finance.yahoo.com/quote/KR?p=KR'},\n",
       " {'Ticker name ': 'Intuitive Surgical Inc.',\n",
       "  'Ticker symbol ': 'ISRG',\n",
       "  'Ticker price ': '1023.47',\n",
       "  'Ticker URL': 'https://www.finance.yahoo.com/quote/ISRG?p=ISRG'},\n",
       " {'Ticker name ': 'Apellis Pharmaceuticals Inc.',\n",
       "  'Ticker symbol ': 'APLS',\n",
       "  'Ticker price ': '34.93',\n",
       "  'Ticker URL': 'https://www.finance.yahoo.com/quote/APLS?p=APLS'},\n",
       " {'Ticker name ': 'Farmmi Inc.',\n",
       "  'Ticker symbol ': 'FAMI',\n",
       "  'Ticker price ': '0.5750',\n",
       "  'Ticker URL': 'https://www.finance.yahoo.com/quote/FAMI?p=FAMI'},\n",
       " {'Ticker name ': 'IronNet Inc.',\n",
       "  'Ticker symbol ': 'IRNT',\n",
       "  'Ticker price ': '21.57',\n",
       "  'Ticker URL': 'https://www.finance.yahoo.com/quote/IRNT?p=IRNT'},\n",
       " {'Ticker name ': 'Alphabet Inc.',\n",
       "  'Ticker symbol ': 'GOOG',\n",
       "  'Ticker price ': '2838.42',\n",
       "  'Ticker URL': 'https://www.finance.yahoo.com/quote/GOOG?p=GOOG'},\n",
       " {'Ticker name ': 'Nasdaq',\n",
       "  'Ticker symbol ': '^IXIC',\n",
       "  'Ticker price ': '15115.49',\n",
       "  'Ticker URL': 'https://www.finance.yahoo.com/quote/%5EIXIC?p=%5EIXIC'}]"
      ]
     },
     "execution_count": 28,
     "metadata": {},
     "output_type": "execute_result"
    }
   ],
   "source": [
    "#check the top 10 \n",
    "top_tickers[:10]"
   ]
  },
  {
   "cell_type": "code",
   "execution_count": 29,
   "metadata": {},
   "outputs": [
    {
     "data": {
      "application/javascript": [
       "window.require && require([\"base/js/namespace\"],function(Jupyter){Jupyter.notebook.save_checkpoint()})"
      ],
      "text/plain": [
       "<IPython.core.display.Javascript object>"
      ]
     },
     "metadata": {},
     "output_type": "display_data"
    },
    {
     "name": "stdout",
     "output_type": "stream",
     "text": [
      "[jovian] Updating notebook \"tejasvi-sadasivuni/project1-yahoo-stock-prices\" on https://jovian.ai\u001b[0m\n",
      "[jovian] Committed successfully! https://jovian.ai/tejasvi-sadasivuni/project1-yahoo-stock-prices\u001b[0m\n"
     ]
    },
    {
     "data": {
      "text/plain": [
       "'https://jovian.ai/tejasvi-sadasivuni/project1-yahoo-stock-prices'"
      ]
     },
     "execution_count": 29,
     "metadata": {},
     "output_type": "execute_result"
    }
   ],
   "source": [
    "jovian.commit()"
   ]
  },
  {
   "cell_type": "markdown",
   "metadata": {},
   "source": [
    "### <font color=brown>Function No. 3: get_top_tickers\n",
    "* A function get_top_tickers is written that can take in a beautifulsoup doc for any of the market categories, and parse the ticker information for it.\n",
    "***\n",
    "* The local variable 'ticker_tags' is defined which takes all the 'tr' tags in the html code, with class \"simpTblRow\". \n",
    "***\n",
    "* We already found that each ticker row on the webpage is represented by a single 'tr' tag. So it is expected that the local variable 'ticker_tags' contains information on all the ticker rows visible on the page. \n",
    "***\n",
    "* Then, we extract information for each row by iterating over each of the 'tr' tags and parsing each of those 'tr' tags with the parse_ticker function as defined in Function No. 1. The result is a dictionary of key-value pairs and is assigned to a local variable - market_tickers, which is returned"
   ]
  },
  {
   "cell_type": "code",
   "execution_count": 30,
   "metadata": {},
   "outputs": [],
   "source": [
    "def get_top_tickers(doc):\n",
    "    ticker_tags = doc.find_all('tr', class_=\"simpTblRow\")\n",
    "    market_tickers = [parse_ticker(tag) for tag in ticker_tags]\n",
    "    return market_tickers"
   ]
  },
  {
   "cell_type": "code",
   "execution_count": 31,
   "metadata": {},
   "outputs": [
    {
     "data": {
      "text/plain": [
       "[{'Ticker name ': 'Bitcoin USD',\n",
       "  'Ticker symbol ': 'BTC-USD',\n",
       "  'Ticker price ': '45710.22',\n",
       "  'Ticker URL': 'https://www.finance.yahoo.com/quote/BTC-USD?p=BTC-USD'},\n",
       " {'Ticker name ': 'Ethereum USD',\n",
       "  'Ticker symbol ': 'ETH-USD',\n",
       "  'Ticker price ': '3321.87',\n",
       "  'Ticker URL': 'https://www.finance.yahoo.com/quote/ETH-USD?p=ETH-USD'},\n",
       " {'Ticker name ': 'HEX USD',\n",
       "  'Ticker symbol ': 'HEX-USD',\n",
       "  'Ticker price ': '0.481373',\n",
       "  'Ticker URL': 'https://www.finance.yahoo.com/quote/HEX-USD?p=HEX-USD'},\n",
       " {'Ticker name ': 'Cardano USD',\n",
       "  'Ticker symbol ': 'ADA-USD',\n",
       "  'Ticker price ': '2.4115',\n",
       "  'Ticker URL': 'https://www.finance.yahoo.com/quote/ADA-USD?p=ADA-USD'},\n",
       " {'Ticker name ': 'BinanceCoin USD',\n",
       "  'Ticker symbol ': 'BNB-USD',\n",
       "  'Ticker price ': '408.30',\n",
       "  'Ticker URL': 'https://www.finance.yahoo.com/quote/BNB-USD?p=BNB-USD'}]"
      ]
     },
     "execution_count": 31,
     "metadata": {},
     "output_type": "execute_result"
    }
   ],
   "source": [
    "# testing out the 'cryptocurrencies' market page on Yahoo Finance and assigning the output to crypto_test_tickers\n",
    "crypto_page = get_market_page('cryptocurrencies')\n",
    "crypto_test_tickers = get_top_tickers(crypto_page)\n",
    "crypto_test_tickers[:5]"
   ]
  },
  {
   "cell_type": "code",
   "execution_count": 32,
   "metadata": {},
   "outputs": [
    {
     "data": {
      "text/plain": [
       "{'Ticker name ': 'Bitcoin USD',\n",
       " 'Ticker symbol ': 'BTC-USD',\n",
       " 'Ticker price ': '45710.22',\n",
       " 'Ticker URL': 'https://www.finance.yahoo.com/quote/BTC-USD?p=BTC-USD'}"
      ]
     },
     "execution_count": 32,
     "metadata": {},
     "output_type": "execute_result"
    }
   ],
   "source": [
    "(crypto_test_tickers[0])"
   ]
  },
  {
   "cell_type": "code",
   "execution_count": 33,
   "metadata": {},
   "outputs": [
    {
     "data": {
      "application/javascript": [
       "window.require && require([\"base/js/namespace\"],function(Jupyter){Jupyter.notebook.save_checkpoint()})"
      ],
      "text/plain": [
       "<IPython.core.display.Javascript object>"
      ]
     },
     "metadata": {},
     "output_type": "display_data"
    },
    {
     "name": "stdout",
     "output_type": "stream",
     "text": [
      "[jovian] Updating notebook \"tejasvi-sadasivuni/project1-yahoo-stock-prices\" on https://jovian.ai\u001b[0m\n",
      "[jovian] Committed successfully! https://jovian.ai/tejasvi-sadasivuni/project1-yahoo-stock-prices\u001b[0m\n"
     ]
    },
    {
     "data": {
      "text/plain": [
       "'https://jovian.ai/tejasvi-sadasivuni/project1-yahoo-stock-prices'"
      ]
     },
     "execution_count": 33,
     "metadata": {},
     "output_type": "execute_result"
    }
   ],
   "source": [
    "jovian.commit()"
   ]
  },
  {
   "cell_type": "markdown",
   "metadata": {},
   "source": [
    "### <font color=brown>Function No. 4: write_csv\n",
    "\n",
    "* Once all the tickers are parsed, the information needs to be saved in a csv file for usability.\n",
    "***\n",
    "* The function 'write_csv' is defined, which takes inputs as items and path. \n",
    "***\n",
    "* Items corresponds to the dictionary of key-value pairs that contains information about each ticker row. \n",
    "***\n",
    "* Path corresponds to the filename that the dictionary is being saved to. \n",
    "***\n",
    "* The output generated is a file, which was passed as path to the write_csv function."
   ]
  },
  {
   "cell_type": "code",
   "execution_count": 34,
   "metadata": {
    "code_folding": []
   },
   "outputs": [],
   "source": [
    "def write_csv(items, path):\n",
    "    # with the file opened in write mode, if there are no items in the dictionary, nothing is returned. \n",
    "    with open(path, 'w') as f:\n",
    "        if len(items) == 0:\n",
    "            return\n",
    "        \n",
    "        # Write the headers in the first line\n",
    "        headers = list(items[0].keys())\n",
    "        f.write(','.join(headers) + '\\n')\n",
    "        \n",
    "        # Write one item per line\n",
    "        for item in items:\n",
    "            values = []\n",
    "            for header in headers:\n",
    "                values.append(str(item.get(header, \"\")))\n",
    "            f.write(','.join(values) + \"\\n\")"
   ]
  },
  {
   "cell_type": "code",
   "execution_count": 35,
   "metadata": {},
   "outputs": [],
   "source": [
    "# write a test csv file: trending_stocks_test.csv\n",
    "trending_stocks_page = get_market_page('trending-tickers')\n",
    "trending_tickers = get_top_tickers(trending_stocks_page)\n",
    "trending_tickers[:5]\n",
    "write_csv(trending_tickers, 'trending_stocks_test.csv')"
   ]
  },
  {
   "cell_type": "markdown",
   "metadata": {},
   "source": [
    "### <font color=brown>Function No. 5: scrape_market_tickers\n",
    "\n",
    "* The function - scrape_market_tickers is written to take each market category as string input and give the outputs - filename.csv and a dcitionary of the key-value pairs for each ticker.\n",
    "\n",
    "***\n",
    "* If the path for the file to be output is not provided, it takes the market name and appends '.csv'. \n",
    "***\n",
    "* get_market_page function as seen in Function No. 1 takes the market name as string and returns the bueatifulsoup document for that specific market. The resuls is assigned to the local variable - market_page_doc\n",
    "***\n",
    "* The local variable market_tickers is assigned to the output generated by passing the market_page_doc to the get_top_tickers function."
   ]
  },
  {
   "cell_type": "code",
   "execution_count": 36,
   "metadata": {},
   "outputs": [],
   "source": [
    "def scrape_market_tickers(market, path=None):\n",
    "    if path is None:\n",
    "        path = market+'csv'\n",
    "    market_page_doc = get_market_page(market)\n",
    "    market_tickers = get_top_tickers(market_page_doc)\n",
    "    write_csv(market_tickers, path)\n",
    "    return path"
   ]
  },
  {
   "cell_type": "markdown",
   "metadata": {},
   "source": [
    "### <font color=green>Putting all the above functions together:"
   ]
  },
  {
   "cell_type": "code",
   "execution_count": 37,
   "metadata": {
    "code_folding": [
     36
    ]
   },
   "outputs": [],
   "source": [
    "#Let's attempt to scrape all these market categories mentioned in the next line:\n",
    "\n",
    "markets = ['cryptocurrencies', 'trending-tickers','most-active', 'gainers', 'losers', 'etfs', 'world-indices', 'mutualfunds' ]\n",
    "\n",
    "import requests\n",
    "from bs4 import BeautifulSoup\n",
    "base_url = 'https://www.finance.yahoo.com'\n",
    "\n",
    "def scrape_market_tickers(market, path=None):\n",
    "    if path is None:\n",
    "        path = market+'.csv'\n",
    "    market_page_doc = get_market_page(market)\n",
    "    market_tickers = get_top_tickers(market_page_doc)\n",
    "    write_csv(market_tickers, path)\n",
    "    return path\n",
    "\n",
    "def get_market_page(market):\n",
    "    market_tickers_url = 'https://www.finance.yahoo.com/'+market\n",
    "    response = requests.get(market_tickers_url)\n",
    "    if response.status_code != 200:\n",
    "        print('Status code: ', response.status_code)\n",
    "        raise Exception('Failed to fetch web page '+ market_tickers_url)\n",
    "    doc = BeautifulSoup(response.text)\n",
    "    return doc\n",
    "\n",
    "def get_top_tickers(doc):\n",
    "    ticker_tags = doc.find_all('tr', class_=\"simpTblRow\")\n",
    "    market_tickers = [parse_ticker(tag) for tag in ticker_tags]\n",
    "    return market_tickers\n",
    "\n",
    "def parse_ticker(ticker_tag):\n",
    "    td_tags = ticker_tag.find_all('td')\n",
    "    ticker_name = td_tags[1].text.replace(',','')\n",
    "    ticker_symbol = td_tags[0].text\n",
    "    ticker_price = td_tags[2].text.replace(',','')\n",
    "    a_tags = ticker_tag.find_all('a')\n",
    "    ticker_path = a_tags[0]['href']\n",
    "    ticker_url = base_url + ticker_path\n",
    "    return {\n",
    "        'Ticker name ': ticker_name,\n",
    "        'Ticker symbol ': ticker_symbol,\n",
    "        'Ticker price ': ticker_price,\n",
    "        'Ticker URL': ticker_url\n",
    "    }\n",
    "def write_csv(items, path):\n",
    "    with open(path, 'w') as f:\n",
    "        if len(items) == 0:\n",
    "            return\n",
    "        \n",
    "        # Write the headers in the first line\n",
    "        headers = list(items[0].keys())\n",
    "        f.write(','.join(headers) + '\\n')\n",
    "        \n",
    "        # Write one item per line\n",
    "        for item in items:\n",
    "            values = []\n",
    "            for header in headers:\n",
    "                values.append(str(item.get(header, \"\")))\n",
    "            f.write(','.join(values) + \"\\n\")\n",
    "\n",
    "for market in markets:\n",
    "    scrape_market_tickers(market, path=None)"
   ]
  },
  {
   "cell_type": "markdown",
   "metadata": {},
   "source": [
    "### <font color=green>The Output\n",
    "Results can be checked by checking the files in the library:\n",
    "File > Open > Check all the files and their contents\n",
    "\n",
    "    \n",
    "The file list looks like: \n",
    "<img src=\"https://i.imgur.com/b1HvO85.jpeg\" style=\"width: 400px;\" align=\"center\" />\n",
    "    \n",
    "***\n",
    "When the gainers.csv file is opened and inspected, this is what the file contents look like: \n",
    "    (Note: the contents of output files change as the tickers are updated on the Yahoo Finance website) \n",
    "<img src=\"https://i.imgur.com/7nOvMyw.jpeg\" style=\"width: 900px;\" align=\"center\" />\n"
   ]
  },
  {
   "cell_type": "code",
   "execution_count": 38,
   "metadata": {
    "scrolled": true
   },
   "outputs": [
    {
     "data": {
      "application/javascript": [
       "window.require && require([\"base/js/namespace\"],function(Jupyter){Jupyter.notebook.save_checkpoint()})"
      ],
      "text/plain": [
       "<IPython.core.display.Javascript object>"
      ]
     },
     "metadata": {},
     "output_type": "display_data"
    },
    {
     "name": "stdout",
     "output_type": "stream",
     "text": [
      "[jovian] Updating notebook \"tejasvi-sadasivuni/project1-yahoo-stock-prices\" on https://jovian.ai\u001b[0m\n",
      "[jovian] Committed successfully! https://jovian.ai/tejasvi-sadasivuni/project1-yahoo-stock-prices\u001b[0m\n"
     ]
    },
    {
     "data": {
      "text/plain": [
       "'https://jovian.ai/tejasvi-sadasivuni/project1-yahoo-stock-prices'"
      ]
     },
     "execution_count": 38,
     "metadata": {},
     "output_type": "execute_result"
    }
   ],
   "source": [
    "jovian.commit(['etfs.csv', 'trending-tickers.csv', 'gainers.csv', 'mutualfunds.csv', 'cryptocurrencies.csv', 'losers.csv', 'world-indices.csv', 'most-active.csv'])"
   ]
  },
  {
   "cell_type": "markdown",
   "metadata": {},
   "source": [
    "### <font color=green> Merging all the scraped data into a single file"
   ]
  },
  {
   "cell_type": "code",
   "execution_count": 39,
   "metadata": {},
   "outputs": [
    {
     "data": {
      "text/html": [
       "<div>\n",
       "<style scoped>\n",
       "    .dataframe tbody tr th:only-of-type {\n",
       "        vertical-align: middle;\n",
       "    }\n",
       "\n",
       "    .dataframe tbody tr th {\n",
       "        vertical-align: top;\n",
       "    }\n",
       "\n",
       "    .dataframe thead th {\n",
       "        text-align: right;\n",
       "    }\n",
       "</style>\n",
       "<table border=\"1\" class=\"dataframe\">\n",
       "  <thead>\n",
       "    <tr style=\"text-align: right;\">\n",
       "      <th></th>\n",
       "      <th>Ticker name</th>\n",
       "      <th>Ticker symbol</th>\n",
       "      <th>Ticker price</th>\n",
       "      <th>Ticker URL</th>\n",
       "    </tr>\n",
       "  </thead>\n",
       "  <tbody>\n",
       "    <tr>\n",
       "      <th>0</th>\n",
       "      <td>Arrow DWA Tactical: International ETF</td>\n",
       "      <td>DWCR</td>\n",
       "      <td>37.34</td>\n",
       "      <td>https://www.finance.yahoo.com/quote/DWCR?p=DWCR</td>\n",
       "    </tr>\n",
       "    <tr>\n",
       "      <th>1</th>\n",
       "      <td>Invesco QQQ Trust</td>\n",
       "      <td>QQQ</td>\n",
       "      <td>376.59</td>\n",
       "      <td>https://www.finance.yahoo.com/quote/QQQ?p=QQQ</td>\n",
       "    </tr>\n",
       "    <tr>\n",
       "      <th>2</th>\n",
       "      <td>Apple Inc.</td>\n",
       "      <td>AAPL</td>\n",
       "      <td>148.97</td>\n",
       "      <td>https://www.finance.yahoo.com/quote/AAPL?p=AAPL</td>\n",
       "    </tr>\n",
       "    <tr>\n",
       "      <th>3</th>\n",
       "      <td>Affirm Holdings Inc.</td>\n",
       "      <td>AFRM</td>\n",
       "      <td>123.70</td>\n",
       "      <td>https://www.finance.yahoo.com/quote/AFRM?p=AFRM</td>\n",
       "    </tr>\n",
       "    <tr>\n",
       "      <th>4</th>\n",
       "      <td>IVERIC bio Inc.</td>\n",
       "      <td>ISEE</td>\n",
       "      <td>14.12</td>\n",
       "      <td>https://www.finance.yahoo.com/quote/ISEE?p=ISEE</td>\n",
       "    </tr>\n",
       "    <tr>\n",
       "      <th>...</th>\n",
       "      <td>...</td>\n",
       "      <td>...</td>\n",
       "      <td>...</td>\n",
       "      <td>...</td>\n",
       "    </tr>\n",
       "    <tr>\n",
       "      <th>218</th>\n",
       "      <td>Clover Health Investments Corp.</td>\n",
       "      <td>CLOV</td>\n",
       "      <td>8.59</td>\n",
       "      <td>https://www.finance.yahoo.com/quote/CLOV?p=CLOV</td>\n",
       "    </tr>\n",
       "    <tr>\n",
       "      <th>219</th>\n",
       "      <td>TAL Education Group</td>\n",
       "      <td>TAL</td>\n",
       "      <td>4.96</td>\n",
       "      <td>https://www.finance.yahoo.com/quote/TAL?p=TAL</td>\n",
       "    </tr>\n",
       "    <tr>\n",
       "      <th>220</th>\n",
       "      <td>AT&amp;T Inc.</td>\n",
       "      <td>T</td>\n",
       "      <td>27.18</td>\n",
       "      <td>https://www.finance.yahoo.com/quote/T?p=T</td>\n",
       "    </tr>\n",
       "    <tr>\n",
       "      <th>221</th>\n",
       "      <td>Carnival Corporation &amp; plc</td>\n",
       "      <td>CCL</td>\n",
       "      <td>22.75</td>\n",
       "      <td>https://www.finance.yahoo.com/quote/CCL?p=CCL</td>\n",
       "    </tr>\n",
       "    <tr>\n",
       "      <th>222</th>\n",
       "      <td>Petróleo Brasileiro S.A. - Petrobras</td>\n",
       "      <td>PBR</td>\n",
       "      <td>9.94</td>\n",
       "      <td>https://www.finance.yahoo.com/quote/PBR?p=PBR</td>\n",
       "    </tr>\n",
       "  </tbody>\n",
       "</table>\n",
       "<p>223 rows × 4 columns</p>\n",
       "</div>"
      ],
      "text/plain": [
       "                              Ticker name  Ticker symbol   Ticker price   \\\n",
       "0    Arrow DWA Tactical: International ETF           DWCR          37.34   \n",
       "1                        Invesco QQQ Trust            QQQ         376.59   \n",
       "2                               Apple Inc.           AAPL         148.97   \n",
       "3                     Affirm Holdings Inc.           AFRM         123.70   \n",
       "4                          IVERIC bio Inc.           ISEE          14.12   \n",
       "..                                     ...            ...            ...   \n",
       "218        Clover Health Investments Corp.           CLOV           8.59   \n",
       "219                    TAL Education Group            TAL           4.96   \n",
       "220                              AT&T Inc.              T          27.18   \n",
       "221             Carnival Corporation & plc            CCL          22.75   \n",
       "222   Petróleo Brasileiro S.A. - Petrobras            PBR           9.94   \n",
       "\n",
       "                                          Ticker URL  \n",
       "0    https://www.finance.yahoo.com/quote/DWCR?p=DWCR  \n",
       "1      https://www.finance.yahoo.com/quote/QQQ?p=QQQ  \n",
       "2    https://www.finance.yahoo.com/quote/AAPL?p=AAPL  \n",
       "3    https://www.finance.yahoo.com/quote/AFRM?p=AFRM  \n",
       "4    https://www.finance.yahoo.com/quote/ISEE?p=ISEE  \n",
       "..                                               ...  \n",
       "218  https://www.finance.yahoo.com/quote/CLOV?p=CLOV  \n",
       "219    https://www.finance.yahoo.com/quote/TAL?p=TAL  \n",
       "220        https://www.finance.yahoo.com/quote/T?p=T  \n",
       "221    https://www.finance.yahoo.com/quote/CCL?p=CCL  \n",
       "222    https://www.finance.yahoo.com/quote/PBR?p=PBR  \n",
       "\n",
       "[223 rows x 4 columns]"
      ]
     },
     "execution_count": 39,
     "metadata": {},
     "output_type": "execute_result"
    }
   ],
   "source": [
    "import pandas as pd\n",
    "import os, glob\n",
    "path = \"/home/jovyan/\"\n",
    "my_files = glob.glob(os.path.join(path, \"*.csv\"))\n",
    "df_from_each_file = (pd.read_csv(f, sep=',') for f in my_files)\n",
    "df_merged   = pd.concat(df_from_each_file, ignore_index=True)\n",
    "df_merged.to_csv( \"merged.csv\", index=False)\n",
    "\n",
    "merged_df = pd.read_csv('merged.csv')\n",
    "merged_df"
   ]
  },
  {
   "cell_type": "markdown",
   "metadata": {},
   "source": [
    "### <font color=green>Conclusion:\n",
    "\n",
    "* The top tickers for various market categories on the Yahoo website were scraped and csvs were created with the target information included\n",
    "\n",
    "* Please note that some market categories on the website such as 'Calendars' and 'Currency converter' do not have ticker / row data and therefore cannot be scraped with the above method. \n",
    "\n",
    "* Beautifulsoup package was used in this webscraping project to scrape HTML data\n"
   ]
  },
  {
   "cell_type": "markdown",
   "metadata": {},
   "source": [
    "### <font color=green>References and Future Work:\n",
    "* References:\n",
    "    * Web_Scraping_And_Rest_APIs - https://jovian.ai/learn/zero-to-data-analyst-bootcamp/lesson/web-scraping-and-rest-apis\n",
    "    * Jupyter notebook formatting guide - https://medium.com/analytics-vidhya/the-jupyter-notebook-formatting-guide-873ab39f765e\n",
    "    * Merging scraped data - https://blog.softhints.com/how-to-merge-multiple-csv-files-with-python/\n",
    "* Ideas for future work:\n",
    "    * Scrape more tickers in each category by increasing the view size\n",
    "    * For cryptocurrencies, get the total volume as well to get a better understanding about its performance\n",
    "    * Yahoo finance was a static website; dynamic scraping with selenium or other tools needs to be explored\n",
    "    * Scraping with REST APIs to get json files is an easier way to scrape web data. I will need to attempt webscraping from Twitter for analyzing real-time events"
   ]
  },
  {
   "cell_type": "code",
   "execution_count": 40,
   "metadata": {},
   "outputs": [
    {
     "data": {
      "application/javascript": [
       "window.require && require([\"base/js/namespace\"],function(Jupyter){Jupyter.notebook.save_checkpoint()})"
      ],
      "text/plain": [
       "<IPython.core.display.Javascript object>"
      ]
     },
     "metadata": {},
     "output_type": "display_data"
    },
    {
     "name": "stdout",
     "output_type": "stream",
     "text": [
      "[jovian] Updating notebook \"tejasvi-sadasivuni/project1-yahoo-stock-prices\" on https://jovian.ai\u001b[0m\n",
      "[jovian] Uploading additional files...\u001b[0m\n",
      "[jovian] Committed successfully! https://jovian.ai/tejasvi-sadasivuni/project1-yahoo-stock-prices\u001b[0m\n"
     ]
    },
    {
     "data": {
      "text/plain": [
       "'https://jovian.ai/tejasvi-sadasivuni/project1-yahoo-stock-prices'"
      ]
     },
     "execution_count": 40,
     "metadata": {},
     "output_type": "execute_result"
    }
   ],
   "source": [
    "# saving the notebook and associated files:\n",
    "!pip install jovian --upgrade --quiet\n",
    "import jovian\n",
    "# Execute this to save new versions of the notebook\n",
    "jovian.commit(project=\"project1-yahoo-stock-prices\", files=[\n",
    "    'cryptocurrencies.csv', 'etfs.csv', 'gainers.csv','losers.csv', 'most-active.csv',\n",
    "    'mutualfunds.csv', 'trending-tickers.csv', 'world-indices.csv', 'merged.csv'])"
   ]
  },
  {
   "cell_type": "code",
   "execution_count": null,
   "metadata": {},
   "outputs": [
    {
     "data": {
      "application/javascript": [
       "window.require && require([\"base/js/namespace\"],function(Jupyter){Jupyter.notebook.save_checkpoint()})"
      ],
      "text/plain": [
       "<IPython.core.display.Javascript object>"
      ]
     },
     "metadata": {},
     "output_type": "display_data"
    }
   ],
   "source": [
    "#Project submission\n",
    "jovian.submit(assignment=\"zerotoanalyst-project1\")"
   ]
  },
  {
   "cell_type": "code",
   "execution_count": null,
   "metadata": {},
   "outputs": [],
   "source": []
  }
 ],
 "metadata": {
  "language_info": {
   "codemirror_mode": {
    "name": "ipython",
    "version": 3
   },
   "file_extension": ".py",
   "mimetype": "text/x-python",
   "name": "python",
   "nbconvert_exporter": "python",
   "pygments_lexer": "ipython3",
   "version": "3.9.6"
  }
 },
 "nbformat": 4,
 "nbformat_minor": 2
}